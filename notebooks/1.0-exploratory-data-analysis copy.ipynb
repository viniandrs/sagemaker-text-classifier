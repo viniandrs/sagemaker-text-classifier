{
 "cells": [
  {
   "cell_type": "code",
   "execution_count": null,
   "id": "e7a07e58",
   "metadata": {},
   "outputs": [
    {
     "name": "stderr",
     "output_type": "stream",
     "text": [
      "/home/vini/Documents/sagemaker_test_classifier/.venv/lib/python3.11/site-packages/tqdm/auto.py:21: TqdmWarning: IProgress not found. Please update jupyter and ipywidgets. See https://ipywidgets.readthedocs.io/en/stable/user_install.html\n",
      "  from .autonotebook import tqdm as notebook_tqdm\n",
      "Generating train split: 100%|██████████| 25000/25000 [00:00<00:00, 212411.12 examples/s]\n",
      "Generating test split: 100%|██████████| 25000/25000 [00:00<00:00, 233833.23 examples/s]\n",
      "Generating unsupervised split: 100%|██████████| 50000/50000 [00:00<00:00, 225341.75 examples/s]\n"
     ]
    }
   ],
   "source": [
    "from datasets import load_dataset\n",
    "dataset = load_dataset(\"imdb\")\n",
    "train_data, test_data = dataset[\"train\"], dataset[\"test\"]"
   ]
  },
  {
   "cell_type": "code",
   "execution_count": 2,
   "id": "23ed2a7a",
   "metadata": {},
   "outputs": [
    {
     "name": "stderr",
     "output_type": "stream",
     "text": [
      "Saving the dataset (1/1 shards): 100%|██████████| 25000/25000 [00:00<00:00, 701243.22 examples/s]\n",
      "Saving the dataset (1/1 shards): 100%|██████████| 25000/25000 [00:00<00:00, 711366.80 examples/s]\n",
      "Saving the dataset (1/1 shards): 100%|██████████| 50000/50000 [00:00<00:00, 659774.30 examples/s]\n"
     ]
    }
   ],
   "source": [
    "dataset.save_to_disk('./data/imdb')"
   ]
  },
  {
   "cell_type": "code",
   "execution_count": null,
   "id": "be9507bf",
   "metadata": {},
   "outputs": [],
   "source": [
    "dataset = load_from_disk('./data/imdb')"
   ]
  }
 ],
 "metadata": {
  "kernelspec": {
   "display_name": ".venv (3.11.10)",
   "language": "python",
   "name": "python3"
  },
  "language_info": {
   "codemirror_mode": {
    "name": "ipython",
    "version": 3
   },
   "file_extension": ".py",
   "mimetype": "text/x-python",
   "name": "python",
   "nbconvert_exporter": "python",
   "pygments_lexer": "ipython3",
   "version": "3.11.10"
  }
 },
 "nbformat": 4,
 "nbformat_minor": 5
}

{
 "cells": [
  {
   "cell_type": "code",
   "execution_count": 12,
   "id": "a1c52714",
   "metadata": {},
   "outputs": [],
   "source": [
    "import numpy as np\n",
    "from transformers import (\n",
    "    AutoTokenizer,\n",
    "    AutoModelForSequenceClassification\n",
    ")\n",
    "from datasets import load_from_disk\n",
    "import evaluate\n",
    "import torch"
   ]
  },
  {
   "cell_type": "code",
   "execution_count": 4,
   "id": "c4e00d5c",
   "metadata": {},
   "outputs": [],
   "source": [
    "train_dataset = load_from_disk(\"data/preprocessed/train_processed\")\n",
    "test_dataset = load_from_disk(\"data/preprocessed/test_processed\")"
   ]
  },
  {
   "cell_type": "code",
   "execution_count": 10,
   "id": "a42c9f3e",
   "metadata": {},
   "outputs": [],
   "source": [
    "# tokenizer = AutoTokenizer.from_pretrained(\"distilbert-base-uncased\")\n",
    "# model = AutoModelForSequenceClassification.from_pretrained('distilbert-base-uncased', num_labels=2)\n",
    "\n",
    "model.save_pretrained(\"models/distilbert-base-uncased\")"
   ]
  },
  {
   "cell_type": "code",
   "execution_count": 11,
   "id": "2a917148",
   "metadata": {},
   "outputs": [],
   "source": [
    "tokenizer = AutoTokenizer.from_pretrained(\"distilbert-base-uncased\")\n",
    "model = AutoModelForSequenceClassification.from_pretrained('models/distilbert-base-uncased', num_labels=2)"
   ]
  },
  {
   "cell_type": "code",
   "execution_count": 13,
   "id": "58454002",
   "metadata": {},
   "outputs": [
    {
     "name": "stdout",
     "output_type": "stream",
     "text": [
      "probs: tensor([[0.5162, 0.4838]])\n",
      "pred_class: 0\n",
      "{'prediction': 0, 'probabilities': [0.5161833167076111, 0.48381659388542175]}\n"
     ]
    }
   ],
   "source": [
    "def predict(input_data, model, tokenizer):    \n",
    "    inputs = tokenizer(\n",
    "        input_data, \n",
    "        return_tensors=\"pt\", \n",
    "        padding=True, \n",
    "        truncation=True, \n",
    "        max_length=256\n",
    "    )\n",
    "    \n",
    "    with torch.no_grad():\n",
    "        outputs = model(**inputs)\n",
    "    \n",
    "    # Return probabilities and predicted class\n",
    "    probs = torch.nn.functional.softmax(outputs.logits, dim=-1)\n",
    "    print(f'probs: {probs}')\n",
    "    pred_class = torch.argmax(probs).item()\n",
    "    print(f'pred_class: {pred_class}')\n",
    "    return {\"prediction\": pred_class, \"probabilities\": probs.tolist()[0]}\n",
    "\n",
    "print(predict(\"Hello, this is a test message.\", model, tokenizer))"
   ]
  },
  {
   "cell_type": "code",
   "execution_count": null,
   "id": "0c4a8393",
   "metadata": {},
   "outputs": [],
   "source": [
    "# Metrics\n",
    "metric = evaluate.load(\"accuracy\")\n",
    "def compute_metrics(eval_pred):\n",
    "    logits, labels = eval_pred\n",
    "    predictions = np.argmax(logits, axis=-1)\n",
    "    return metric.compute(predictions=predictions, references=labels)"
   ]
  }
 ],
 "metadata": {
  "kernelspec": {
   "display_name": ".venv (3.11.10)",
   "language": "python",
   "name": "python3"
  },
  "language_info": {
   "codemirror_mode": {
    "name": "ipython",
    "version": 3
   },
   "file_extension": ".py",
   "mimetype": "text/x-python",
   "name": "python",
   "nbconvert_exporter": "python",
   "pygments_lexer": "ipython3",
   "version": "3.11.10"
  }
 },
 "nbformat": 4,
 "nbformat_minor": 5
}

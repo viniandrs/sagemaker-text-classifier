{
 "cells": [
  {
   "cell_type": "code",
   "execution_count": null,
   "id": "a056fc2c",
   "metadata": {},
   "outputs": [
    {
     "name": "stdout",
     "output_type": "stream",
     "text": [
      "sagemaker.config INFO - Not applying SDK defaults from location: /etc/xdg/sagemaker/config.yaml\n",
      "sagemaker.config INFO - Not applying SDK defaults from location: /home/vini/.config/sagemaker/config.yaml\n"
     ]
    },
    {
     "name": "stderr",
     "output_type": "stream",
     "text": [
      "/home/vini/Documents/sagemaker_text_classifier/.venv/lib/python3.11/site-packages/tqdm/auto.py:21: TqdmWarning: IProgress not found. Please update jupyter and ipywidgets. See https://ipywidgets.readthedocs.io/en/stable/user_install.html\n",
      "  from .autonotebook import tqdm as notebook_tqdm\n"
     ]
    },
    {
     "data": {
      "text/plain": [
       "True"
      ]
     },
     "execution_count": 1,
     "metadata": {},
     "output_type": "execute_result"
    }
   ],
   "source": [
    "import boto3\n",
    "from sagemaker.s3 import S3Uploader\n",
    "from sagemaker.session import Session\n",
    "import dotenv\n",
    "\n",
    "from datasets import load_from_disk\n",
    "from transformers import AutoTokenizer\n",
    "import pandas as pd\n",
    "\n",
    "dotenv.load_dotenv()"
   ]
  },
  {
   "cell_type": "markdown",
   "id": "5cdff2e9",
   "metadata": {},
   "source": [
    "# Preprocessing data"
   ]
  },
  {
   "cell_type": "markdown",
   "id": "c9e78a7a",
   "metadata": {},
   "source": [
    "## 1. Tokenizing dataset"
   ]
  },
  {
   "cell_type": "code",
   "execution_count": null,
   "id": "e7a07e58",
   "metadata": {},
   "outputs": [],
   "source": [
    "# Load IMDb dataset\n",
    "dataset = load_from_disk(\"data/raw/imdb\")\n",
    "train_data, test_data = dataset[\"train\"], dataset[\"test\"]\n",
    "\n",
    "# Initialize tokenizer (using DistilBERT for consistency)\n",
    "tokenizer = AutoTokenizer.from_pretrained(\"distilbert-base-uncased\")\n",
    "\n",
    "# Tokenization function\n",
    "def tokenize(batch):\n",
    "    return tokenizer(batch[\"text\"], padding=\"max_length\", truncation=True, max_length=256)\n",
    "\n",
    "# Tokenize datasets\n",
    "train_dataset = train_data.map(tokenize, batched=True)\n",
    "test_dataset = test_data.map(tokenize, batched=True)\n",
    "\n",
    "# Save processed datasets to disk\n",
    "train_dataset.save_to_disk(\"data/preprocessed/train_processed\")\n",
    "test_dataset.save_to_disk(\"data/preprocessed/test_processed\")"
   ]
  },
  {
   "cell_type": "markdown",
   "id": "4966b7af",
   "metadata": {},
   "source": [
    "## 2. Upload tokenized data to AWS"
   ]
  },
  {
   "cell_type": "code",
   "execution_count": 7,
   "id": "a8279709",
   "metadata": {},
   "outputs": [
    {
     "name": "stdout",
     "output_type": "stream",
     "text": [
      "Current AWS Region: None\n"
     ]
    }
   ],
   "source": [
    "# aws setup\n",
    "\n",
    "# Manually set AWS credentials and region (replace placeholders)\n",
    "aws_access_key_id = dotenv.get_key(dotenv.find_dotenv(), \"ACCESS_KEY\")  \n",
    "aws_secret_access_key = dotenv.get_key(dotenv.find_dotenv(), \"SECRET_KEY\") \n",
    "region_name = \"us-east-1\"                  # Or your preferred SageMaker region (e.g., \"eu-west-1\")\n",
    "\n",
    "# Configure the default session\n",
    "boto3.setup_default_session(\n",
    "    aws_access_key_id=aws_access_key_id,\n",
    "    aws_secret_access_key=aws_secret_access_key,\n",
    "    region_name=region_name\n",
    ")\n",
    "\n",
    "# Verify the region is set\n",
    "print(\"Current AWS Region:\", boto3.Session().region_name)"
   ]
  },
  {
   "cell_type": "code",
   "execution_count": null,
   "id": "9a36e15f",
   "metadata": {},
   "outputs": [
    {
     "data": {
      "text/plain": [
       "'s3://sagemaker-us-east-1-339712837044/text-classifier/test/'"
      ]
     },
     "execution_count": 9,
     "metadata": {},
     "output_type": "execute_result"
    }
   ],
   "source": [
    "# Upload data to S3 bucket\n",
    "bucket_name = \"sagemaker-us-east-1-339712837044\"\n",
    "# S3Uploader.upload(\"data/preprocessed/train_processed\", f\"s3://{bucket_name}/text-classifier/train/\")\n",
    "# S3Uploader.upload(\"data/preprocessed/test_processed\", f\"s3://{bucket_name}/text-classifier/test/\")"
   ]
  }
 ],
 "metadata": {
  "kernelspec": {
   "display_name": ".venv (3.11.10)",
   "language": "python",
   "name": "python3"
  },
  "language_info": {
   "codemirror_mode": {
    "name": "ipython",
    "version": 3
   },
   "file_extension": ".py",
   "mimetype": "text/x-python",
   "name": "python",
   "nbconvert_exporter": "python",
   "pygments_lexer": "ipython3",
   "version": "3.11.10"
  }
 },
 "nbformat": 4,
 "nbformat_minor": 5
}
